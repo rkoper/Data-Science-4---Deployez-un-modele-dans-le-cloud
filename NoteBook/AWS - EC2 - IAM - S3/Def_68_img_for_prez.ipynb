{
 "cells": [
  {
   "cell_type": "code",
   "execution_count": 1,
   "metadata": {},
   "outputs": [],
   "source": [
    "#pip install ipython-autotime"
   ]
  },
  {
   "cell_type": "code",
   "execution_count": 2,
   "metadata": {},
   "outputs": [],
   "source": [
    "#pip install boto3"
   ]
  },
  {
   "cell_type": "code",
   "execution_count": 3,
   "metadata": {},
   "outputs": [],
   "source": [
    "#pip install tensorframes"
   ]
  },
  {
   "cell_type": "code",
   "execution_count": 4,
   "metadata": {},
   "outputs": [
    {
     "name": "stdout",
     "output_type": "stream",
     "text": [
      "Requirement already satisfied: python-dotenv in ./anaconda3/lib/python3.7/site-packages (0.19.0)\n",
      "Note: you may need to restart the kernel to use updated packages.\n"
     ]
    }
   ],
   "source": [
    "#pip install python-dotenv"
   ]
  },
  {
   "cell_type": "code",
   "execution_count": 5,
   "metadata": {},
   "outputs": [],
   "source": [
    "#pip install PyArrow"
   ]
  },
  {
   "cell_type": "code",
   "execution_count": 6,
   "metadata": {},
   "outputs": [
    {
     "name": "stderr",
     "output_type": "stream",
     "text": [
      "/home/ubuntu/anaconda3/lib/python3.7/site-packages/requests/__init__.py:91: RequestsDependencyWarning: urllib3 (1.26.7) or chardet (3.0.4) doesn't match a supported version!\n",
      "  RequestsDependencyWarning)\n"
     ]
    }
   ],
   "source": [
    "# magics for import statements\n",
    "%load_ext dotenv\n",
    "%dotenv\n",
    "\n",
    "import os\n",
    "import requests\n",
    "\n",
    "ACCESS_CODE = os.getenv(\"accessCode\")\n",
    "SECRET_CODE = os.getenv(\"secretCode\")"
   ]
  },
  {
   "cell_type": "code",
   "execution_count": 7,
   "metadata": {},
   "outputs": [
    {
     "name": "stdout",
     "output_type": "stream",
     "text": [
      "time: 262 µs (started: 2021-10-06 16:27:26 +00:00)\n"
     ]
    }
   ],
   "source": [
    "%load_ext autotime"
   ]
  },
  {
   "cell_type": "code",
   "execution_count": 8,
   "metadata": {},
   "outputs": [
    {
     "name": "stdout",
     "output_type": "stream",
     "text": [
      "3.7.3 (default, Mar 27 2019, 22:11:17) \n",
      "[GCC 7.3.0]\n",
      "time: 466 µs (started: 2021-10-06 16:27:26 +00:00)\n"
     ]
    }
   ],
   "source": [
    "import sys\n",
    "print(sys.version)"
   ]
  },
  {
   "cell_type": "code",
   "execution_count": 9,
   "metadata": {},
   "outputs": [
    {
     "name": "stdout",
     "output_type": "stream",
     "text": [
      "time: 342 µs (started: 2021-10-06 16:27:26 +00:00)\n"
     ]
    }
   ],
   "source": [
    "s3_url = \"s3a://sosop8/sampleaws_5/*\""
   ]
  },
  {
   "cell_type": "code",
   "execution_count": 10,
   "metadata": {},
   "outputs": [
    {
     "name": "stdout",
     "output_type": "stream",
     "text": [
      "time: 2.38 s (started: 2021-10-06 16:27:26 +00:00)\n"
     ]
    }
   ],
   "source": [
    "import time\n",
    "tempsX = time.time()\n",
    "def _time_():\n",
    "    duration1 = time.time()-tempsX\n",
    "    a = \"temps de traitement       \",round(duration1/60,2), \"minutes\"\n",
    "    return a \n",
    "\n",
    "# --------- findspark ---------------------------\n",
    "\n",
    "import findspark\n",
    "findspark.init('/home/ubuntu/spark-3.0.1-bin-hadoop2.7') \n",
    "_time_()\n",
    "\n",
    "# --------- boto3 ---------------------------\n",
    "import boto3\n",
    "# --------- pyspark ---------------------------\n",
    "import pyspark\n",
    "from pyspark import SparkContext,SparkConf\n",
    "from pyspark.ml import Pipeline\n",
    "from pyspark.ml.feature import StandardScaler, MinMaxScaler,PCA,VectorAssembler,StringIndexer\n",
    "from pyspark.ml.linalg import Vectors, VectorUDT, DenseVector\n",
    "from pyspark.ml.image import ImageSchema\n",
    "from pyspark.ml.classification import RandomForestClassifier,LogisticRegression\n",
    "from pyspark.ml.evaluation import MulticlassClassificationEvaluator\n",
    "from pyspark.ml import Pipeline\n",
    "from pyspark.sql import SparkSession, SQLContext,Row,functions as F\n",
    "from pyspark.sql.functions import col, pandas_udf, PandasUDFType,udf,lit, split,col\n",
    "from pyspark.sql.types import ArrayType, StringType, IntegerType, DoubleType, DataType, FloatType\n",
    "# --------- tensorflow ---------------------------\n",
    "import tensorflow \n",
    "import tensorflow as tf\n",
    "tensorflow.get_logger().setLevel('ERROR')\n",
    "from tensorflow.keras.applications.resnet50 import ResNet50, preprocess_input\n",
    "from tensorflow.keras.preprocessing.image import img_to_array\n",
    "from tensorflow.keras.models import Sequential,Model\n",
    "from tensorflow.keras.optimizers import Adam\n",
    "from tensorflow.keras.layers import Dense, Embedding, GlobalAveragePooling1D, Dropout, Activation\n",
    "import tensorframes as tfs\n",
    "# --------- warnings ---------------------------\n",
    "import warnings\n",
    "warnings.simplefilter(action='ignore', category=Warning)\n",
    "# --------- Autres ---------------------------\n",
    "import time\n",
    "import os\n",
    "import pkg_resources\n",
    "import numpy as np\n",
    "import pandas as pd\n",
    "import matplotlib.pyplot as plt\n",
    "import io\n",
    "from io import StringIO\n",
    "import types\n",
    "from PIL import Image"
   ]
  },
  {
   "cell_type": "code",
   "execution_count": 11,
   "metadata": {},
   "outputs": [
    {
     "name": "stdout",
     "output_type": "stream",
     "text": [
      "pyspark==3.0.1\n",
      "tensorframes==0.2.9\n",
      "tensorflow==2.6.0\n",
      "requests==2.21.0\n",
      "Pillow==8.3.2\n",
      "pandas==0.25.3\n",
      "numpy==1.19.5\n",
      "matplotlib==3.4.3\n",
      "keras==2.6.0\n",
      "findspark==1.4.2\n",
      "boto3==1.18.53\n",
      "time: 3.21 ms (started: 2021-10-06 16:27:28 +00:00)\n"
     ]
    }
   ],
   "source": [
    "import pkg_resources\n",
    "import types\n",
    "def get_imports():\n",
    "    for name, val in globals().items():\n",
    "        if isinstance(val, types.ModuleType):\n",
    "            name = val.__name__.split(\".\")[0]\n",
    "        elif isinstance(val, type):\n",
    "            name = val.__module__.split(\".\")[0]\n",
    "        if name == \"PIL\":\n",
    "            name = \"Pillow\"\n",
    "        elif name == \"sklearn\":\n",
    "            name = \"scikit-learn\"\n",
    "        yield name\n",
    "        \n",
    "imports = list(set(get_imports()))\n",
    "\n",
    "requirements = []\n",
    "for m in pkg_resources.working_set:\n",
    "    if m.project_name in imports and m.project_name!=\"pip\":\n",
    "        requirements.append((m.project_name, m.version))\n",
    "\n",
    "for r in requirements:\n",
    "    print(\"{}=={}\".format(*r))"
   ]
  },
  {
   "cell_type": "code",
   "execution_count": 12,
   "metadata": {},
   "outputs": [
    {
     "name": "stdout",
     "output_type": "stream",
     "text": [
      "time: 704 µs (started: 2021-10-06 16:27:28 +00:00)\n"
     ]
    }
   ],
   "source": [
    "os.environ['PYSPARK_SUBMIT_ARGS'] = '--packages com.amazonaws:aws-java-sdk-pom:1.10.34,org.apache.hadoop:hadoop-aws:2.7.2 pyspark-shell'"
   ]
  },
  {
   "cell_type": "code",
   "execution_count": 13,
   "metadata": {},
   "outputs": [
    {
     "data": {
      "text/plain": [
       "('temps de traitement       ', 0.19, 'minutes')"
      ]
     },
     "execution_count": 13,
     "metadata": {},
     "output_type": "execute_result"
    },
    {
     "name": "stdout",
     "output_type": "stream",
     "text": [
      "time: 8.77 s (started: 2021-10-06 16:27:28 +00:00)\n"
     ]
    }
   ],
   "source": [
    "spark = (SparkSession\n",
    "         .builder.master('local[*]')\n",
    "         .appName('P8')\n",
    "         .config('spark.hadoop.fs.s3a.access.key', ACCESS_CODE)\n",
    "         .config('spark.hadoop.fs.s3a.secret.key', SECRET_CODE) \n",
    "         .config('spark.hadoop.fs.s3a.impl', 'org.apache.hadoop.fs.s3a.S3AFileSystem') \n",
    "         .getOrCreate())\n",
    "\n",
    "_time_()"
   ]
  },
  {
   "cell_type": "code",
   "execution_count": 14,
   "metadata": {},
   "outputs": [
    {
     "name": "stdout",
     "output_type": "stream",
     "text": [
      "time: 15.4 ms (started: 2021-10-06 16:27:37 +00:00)\n"
     ]
    }
   ],
   "source": [
    "sc = spark.sparkContext\n",
    "sc.setSystemProperty('com.amazonaws.services.s3.enableV4', 'true')\n",
    "sc._jsc.hadoopConfiguration().set(\"fs.s3a.endpoint\", \"s3.eu-west-3.amazonaws.com\")"
   ]
  },
  {
   "cell_type": "code",
   "execution_count": 15,
   "metadata": {},
   "outputs": [
    {
     "name": "stdout",
     "output_type": "stream",
     "text": [
      "time: 361 ms (started: 2021-10-06 16:27:37 +00:00)\n"
     ]
    }
   ],
   "source": [
    "def model_fn():\n",
    "    model = ResNet50(weights=None, include_top=False)\n",
    "    model.set_weights(bc_model_weights.value)\n",
    "    return model\n",
    "\n",
    "def preprocess(content):\n",
    "    img = Image.open(io.BytesIO(content)).resize([224, 224])\n",
    "    arr = img_to_array(img)\n",
    "    return preprocess_input(arr)\n",
    "\n",
    "def featurize_series(model, content_series):\n",
    "    input = np.stack(content_series.map(preprocess))\n",
    "    preds = model.predict(input)\n",
    "    output = [p.flatten() for p in preds]\n",
    "    return pd.Series(output)\n",
    "\n",
    "\n",
    "@pandas_udf('array<float>', PandasUDFType.SCALAR_ITER)\n",
    "def featurize_udf(content_series_iter):\n",
    "    model = model_fn()\n",
    "    for content_series in content_series_iter:\n",
    "        yield featurize_series(model, content_series)\n",
    "        \n",
    "\n",
    "import boto3\n",
    "from botocore.exceptions import NoCredentialsError\n",
    "\n",
    "\n",
    "def upload_to_aws(local_file, bucket, s3_file):\n",
    "    s3 = boto3.client('s3', aws_access_key_id=ACCESS_CODE,\n",
    "                      aws_secret_access_key=SECRET_CODE)\n",
    "\n",
    "    try:\n",
    "        s3.upload_file(local_file, bucket, s3_file)\n",
    "        print(\"Upload Successful\")\n",
    "        return True\n",
    "    except FileNotFoundError:\n",
    "        print(\"The file was not found\")\n",
    "        return False\n",
    "    except NoCredentialsError:\n",
    "        print(\"Credentials not available\")\n",
    "        return False\n"
   ]
  },
  {
   "cell_type": "code",
   "execution_count": 16,
   "metadata": {},
   "outputs": [
    {
     "data": {
      "text/plain": [
       "('temps de traitement       ', 0.23, 'minutes')"
      ]
     },
     "execution_count": 16,
     "metadata": {},
     "output_type": "execute_result"
    },
    {
     "name": "stdout",
     "output_type": "stream",
     "text": [
      "time: 2.2 s (started: 2021-10-06 16:27:37 +00:00)\n"
     ]
    }
   ],
   "source": [
    "model = ResNet50(include_top=False)\n",
    "bc_model_weights = sc.broadcast(model.get_weights())\n",
    "_time_()"
   ]
  },
  {
   "cell_type": "code",
   "execution_count": 17,
   "metadata": {},
   "outputs": [
    {
     "name": "stdout",
     "output_type": "stream",
     "text": [
      "Load img ======== 1 ========\n"
     ]
    },
    {
     "data": {
      "text/plain": [
       "('temps de traitement       ', 0.29, 'minutes')"
      ]
     },
     "execution_count": 17,
     "metadata": {},
     "output_type": "execute_result"
    },
    {
     "name": "stdout",
     "output_type": "stream",
     "text": [
      "time: 3.52 s (started: 2021-10-06 16:27:40 +00:00)\n"
     ]
    }
   ],
   "source": [
    "print('Load img ======== 1 ========')\n",
    "\n",
    "images = spark.read.format(\"binaryFile\") \\\n",
    "      .option(\"pathGlobFilter\", \"*.jpg\") \\\n",
    "      .option(\"recursiveFileLookup\", \"true\") \\\n",
    "      .load(s3_url)\n",
    "\n",
    "_time_()"
   ]
  },
  {
   "cell_type": "code",
   "execution_count": 18,
   "metadata": {},
   "outputs": [
    {
     "name": "stdout",
     "output_type": "stream",
     "text": [
      "+--------------------+-------------------+------+--------------------+\n",
      "|                path|   modificationTime|length|             content|\n",
      "+--------------------+-------------------+------+--------------------+\n",
      "|s3a://sosop8/samp...|2021-10-04 18:30:24|  6785|[FF D8 FF E0 00 1...|\n",
      "|s3a://sosop8/samp...|2021-10-04 18:30:19|  6585|[FF D8 FF E0 00 1...|\n",
      "|s3a://sosop8/samp...|2021-10-04 18:30:20|  6580|[FF D8 FF E0 00 1...|\n",
      "+--------------------+-------------------+------+--------------------+\n",
      "only showing top 3 rows\n",
      "\n",
      "None\n",
      "Ajout Target ======== 2 ========\n",
      "(68, 5)\n",
      "+--------------------+-------------------+------+--------------------+----------+\n",
      "|                path|   modificationTime|length|             content|    target|\n",
      "+--------------------+-------------------+------+--------------------+----------+\n",
      "|s3a://sosop8/samp...|2021-10-04 18:30:24|  6785|[FF D8 FF E0 00 1...|Watermelon|\n",
      "|s3a://sosop8/samp...|2021-10-04 18:30:19|  6585|[FF D8 FF E0 00 1...| Pineapple|\n",
      "|s3a://sosop8/samp...|2021-10-04 18:30:20|  6580|[FF D8 FF E0 00 1...| Pineapple|\n",
      "+--------------------+-------------------+------+--------------------+----------+\n",
      "only showing top 3 rows\n",
      "\n",
      "None\n",
      "time: 5.11 s (started: 2021-10-06 16:27:43 +00:00)\n"
     ]
    }
   ],
   "source": [
    "print(images.show(3))\n",
    "print('Ajout Target ======== 2 ========')\n",
    "df_1 =  images.withColumn('target', split(images['path'], '/')[4])\n",
    "print((df_1.count(), len(df_1.columns)))\n",
    "print(df_1.show(3))"
   ]
  },
  {
   "cell_type": "code",
   "execution_count": 19,
   "metadata": {},
   "outputs": [
    {
     "name": "stdout",
     "output_type": "stream",
     "text": [
      "Isol Target ======== 3 ========\n",
      "+----------+\n",
      "|    target|\n",
      "+----------+\n",
      "|Watermelon|\n",
      "| Pineapple|\n",
      "+----------+\n",
      "only showing top 2 rows\n",
      "\n",
      "y    None\n",
      "time: 286 ms (started: 2021-10-06 16:27:48 +00:00)\n"
     ]
    }
   ],
   "source": [
    "print('Isol Target ======== 3 ========')\n",
    "y = df_1.select(col(\"target\"))\n",
    "print('y   ', y.show(2))"
   ]
  },
  {
   "cell_type": "code",
   "execution_count": 20,
   "metadata": {},
   "outputs": [
    {
     "name": "stdout",
     "output_type": "stream",
     "text": [
      "Creation UDF ======== 4 ========\n",
      "+--------------------+--------------------+----------+\n",
      "|                path|            features|    target|\n",
      "+--------------------+--------------------+----------+\n",
      "|s3a://sosop8/samp...|[0.0, 0.0, 0.0, 0...|     Cocos|\n",
      "|s3a://sosop8/samp...|[0.0, 0.0, 0.0, 0...|Watermelon|\n",
      "+--------------------+--------------------+----------+\n",
      "only showing top 2 rows\n",
      "\n",
      "features_df    None\n",
      "time: 9.23 s (started: 2021-10-06 16:27:49 +00:00)\n"
     ]
    }
   ],
   "source": [
    "print('Creation UDF ======== 4 ========')\n",
    "df_2 = df_1.repartition(10).select(col(\"path\"), featurize_udf(\"content\").alias(\"features\"),col(\"target\"))\n",
    "print('features_df   ', df_2.show(2))\n",
    "\n",
    "# 10 => 16s\n",
    "# 100 => 1m20"
   ]
  },
  {
   "cell_type": "code",
   "execution_count": 21,
   "metadata": {},
   "outputs": [
    {
     "name": "stdout",
     "output_type": "stream",
     "text": [
      "Convert Dense ======== 5 ========\n",
      "+--------------------+--------------------+----------+--------------------+\n",
      "|                path|            features|    target|      features_dense|\n",
      "+--------------------+--------------------+----------+--------------------+\n",
      "|s3a://sosop8/samp...|[0.0, 0.0, 0.0, 0...|     Cocos|[0.0,0.0,0.0,0.0,...|\n",
      "|s3a://sosop8/samp...|[0.0, 0.0, 0.0, 0...|Watermelon|[0.0,0.0,0.0,0.0,...|\n",
      "+--------------------+--------------------+----------+--------------------+\n",
      "only showing top 2 rows\n",
      "\n",
      "dense_df    None\n",
      "time: 8.87 s (started: 2021-10-06 16:27:58 +00:00)\n"
     ]
    }
   ],
   "source": [
    "print('Convert Dense ======== 5 ========')\n",
    "ud_f = udf(lambda r: Vectors.dense(r), VectorUDT())\n",
    "df_3 = df_2.withColumn('features_dense', ud_f('features'))\n",
    "print('dense_df   ', df_3.show(2))"
   ]
  },
  {
   "cell_type": "code",
   "execution_count": 22,
   "metadata": {},
   "outputs": [
    {
     "name": "stdout",
     "output_type": "stream",
     "text": [
      "Standard Scal ======== 6 ========\n",
      "+--------------------+--------------------+----------+--------------------+--------------------+\n",
      "|                path|            features|    target|      features_dense|           feat_scal|\n",
      "+--------------------+--------------------+----------+--------------------+--------------------+\n",
      "|s3a://sosop8/samp...|[0.0, 0.0, 0.0, 0...|     Cocos|[0.0,0.0,0.0,0.0,...|[0.0,0.0,0.0,0.0,...|\n",
      "|s3a://sosop8/samp...|[0.0, 0.0, 0.0, 0...|Watermelon|[0.0,0.0,0.0,0.0,...|[0.0,0.0,0.0,0.0,...|\n",
      "+--------------------+--------------------+----------+--------------------+--------------------+\n",
      "only showing top 2 rows\n",
      "\n",
      "Standard_df    None\n",
      "time: 35 s (started: 2021-10-06 16:28:07 +00:00)\n"
     ]
    }
   ],
   "source": [
    "print('Standard Scal ======== 6 ========')\n",
    "standardizer = StandardScaler(inputCol=\"features_dense\", outputCol=\"feat_scal\",withStd=True, withMean=True)\n",
    "df_4 = standardizer.fit(df_3).transform(df_3)\n",
    "print('Standard_df   ', df_4.show(2))"
   ]
  },
  {
   "cell_type": "code",
   "execution_count": 23,
   "metadata": {},
   "outputs": [
    {
     "name": "stdout",
     "output_type": "stream",
     "text": [
      "PCA ======== 7.0 ========\n",
      "--- reduc\n",
      "---> variance\n",
      "8 = 90% exp \n"
     ]
    },
    {
     "data": {
      "image/png": "[encoded data removed]",
      "text/plain": [
       "<Figure size 432x288 with 1 Axes>"
      ]
     },
     "metadata": {
      "needs_background": "light"
     },
     "output_type": "display_data"
    },
    {
     "name": "stdout",
     "output_type": "stream",
     "text": [
      "8\n",
      "time: 18min 59s (started: 2021-10-06 16:28:42 +00:00)\n"
     ]
    }
   ],
   "source": [
    "print('PCA ======== 7.0 ========')\n",
    "k = 10\n",
    "pca = PCA(k = k, inputCol = 'feat_scal', outputCol = 'feat_pca')\n",
    "reduc = pca.fit(df_4)\n",
    "print('--- reduc')\n",
    "variance = reduc.explainedVariance\n",
    "print('---> variance')\n",
    "for i in range(k):\n",
    "    a = variance.cumsum()[i]\n",
    "    if a >= 0.90:\n",
    "        print(\"{} = 90% exp \".format(i))\n",
    "        comp_val = i \n",
    "        break\n",
    "\n",
    "\n",
    "# visuel\n",
    "plt.plot(np.arange(len(variance))+1, variance.cumsum(),c=\"red\",marker='o')\n",
    "plt.xlabel(\"Nb de composantes\")\n",
    "plt.ylabel(\"% variance\")\n",
    "plt.show(block=False)\n",
    "\n",
    "print(i)\n",
    "\n",
    "# time: 5min 35s"
   ]
  },
  {
   "cell_type": "code",
   "execution_count": 24,
   "metadata": {},
   "outputs": [
    {
     "name": "stdout",
     "output_type": "stream",
     "text": [
      "PCA ======== 7.1 ========\n",
      "8\n",
      "+--------------------+--------------------+----------+--------------------+--------------------+--------------------+\n",
      "|                path|            features|    target|      features_dense|           feat_scal|         feat_reduit|\n",
      "+--------------------+--------------------+----------+--------------------+--------------------+--------------------+\n",
      "|s3a://sosop8/samp...|[0.0, 0.0, 0.0, 0...|     Cocos|[0.0,0.0,0.0,0.0,...|[0.0,0.0,0.0,0.0,...|[36.3895569360514...|\n",
      "|s3a://sosop8/samp...|[0.0, 0.0, 0.0, 0...|Watermelon|[0.0,0.0,0.0,0.0,...|[0.0,0.0,0.0,0.0,...|[28.0266080544407...|\n",
      "+--------------------+--------------------+----------+--------------------+--------------------+--------------------+\n",
      "only showing top 2 rows\n",
      "\n",
      "Pca_df    None\n",
      "time: 19min 43s (started: 2021-10-06 16:47:41 +00:00)\n"
     ]
    }
   ],
   "source": [
    "print('PCA ======== 7.1 ========')\n",
    "print(i)\n",
    "pca = PCA(k=i, inputCol='feat_scal', outputCol='feat_reduit')\n",
    "pca_model = pca.fit(df_4)\n",
    "df_5 = pca_model.transform(df_4)\n",
    "print('Pca_df   ', df_5.show(2))"
   ]
  },
  {
   "cell_type": "code",
   "execution_count": 25,
   "metadata": {},
   "outputs": [
    {
     "name": "stdout",
     "output_type": "stream",
     "text": [
      "Select Col ======== 8 ========\n",
      "+----------+--------------------+--------------------+\n",
      "|    target|         feat_reduit|                path|\n",
      "+----------+--------------------+--------------------+\n",
      "|     Cocos|[36.3895569360514...|s3a://sosop8/samp...|\n",
      "|Watermelon|[28.0266080544407...|s3a://sosop8/samp...|\n",
      "| Mandarine|[13.1453513725491...|s3a://sosop8/samp...|\n",
      "|   Avocado|[33.6549620642777...|s3a://sosop8/samp...|\n",
      "|     Lemon|[3.88892123235365...|s3a://sosop8/samp...|\n",
      "+----------+--------------------+--------------------+\n",
      "only showing top 5 rows\n",
      "\n",
      "time: 5.1 s (started: 2021-10-06 17:07:24 +00:00)\n"
     ]
    }
   ],
   "source": [
    "print('Select Col ======== 8 ========')\n",
    "df_6 = df_5.select(col(\"target\"),col(\"feat_reduit\"),col(\"path\"))\n",
    "df_6.show(5)"
   ]
  },
  {
   "cell_type": "code",
   "execution_count": 26,
   "metadata": {},
   "outputs": [
    {
     "name": "stdout",
     "output_type": "stream",
     "text": [
      "Indexer======== 9 ========\n",
      "+----------+--------------------+--------------------+----------+\n",
      "|    target|         feat_reduit|                path|target_Idx|\n",
      "+----------+--------------------+--------------------+----------+\n",
      "|     Cocos|[36.3895569360514...|s3a://sosop8/samp...|       2.0|\n",
      "|Watermelon|[28.0266080544407...|s3a://sosop8/samp...|      16.0|\n",
      "+----------+--------------------+--------------------+----------+\n",
      "only showing top 2 rows\n",
      "\n",
      "time: 6.26 s (started: 2021-10-06 17:07:29 +00:00)\n"
     ]
    }
   ],
   "source": [
    "print('Indexer======== 9 ========')\n",
    "indexer = StringIndexer(inputCol=\"target\", outputCol=\"target_Idx\") \n",
    "df_7 = indexer.fit(df_6).transform(df_6) \n",
    "df_7.show(2)"
   ]
  },
  {
   "cell_type": "code",
   "execution_count": 27,
   "metadata": {},
   "outputs": [
    {
     "name": "stdout",
     "output_type": "stream",
     "text": [
      "Select Col - part 2 ======== 10 ========\n",
      "+----------+--------------------+--------------------+\n",
      "|target_Idx|         feat_reduit|                path|\n",
      "+----------+--------------------+--------------------+\n",
      "|       2.0|[36.3895569360514...|s3a://sosop8/samp...|\n",
      "|      16.0|[28.0266080544407...|s3a://sosop8/samp...|\n",
      "|       9.0|[13.1453513725491...|s3a://sosop8/samp...|\n",
      "|       0.0|[33.6549620642777...|s3a://sosop8/samp...|\n",
      "|       8.0|[3.88892123235365...|s3a://sosop8/samp...|\n",
      "+----------+--------------------+--------------------+\n",
      "only showing top 5 rows\n",
      "\n",
      "time: 5.35 s (started: 2021-10-06 17:07:36 +00:00)\n"
     ]
    }
   ],
   "source": [
    "print('Select Col - part 2 ======== 10 ========')\n",
    "df_8 = df_7.select(col(\"target_Idx\"),col(\"feat_reduit\"),col(\"path\"))\n",
    "df_8.show(5)"
   ]
  },
  {
   "cell_type": "code",
   "execution_count": 28,
   "metadata": {},
   "outputs": [
    {
     "name": "stdout",
     "output_type": "stream",
     "text": [
      " train_data, test_data ======== 11 ========\n",
      "time: 21.7 ms (started: 2021-10-06 17:07:41 +00:00)\n"
     ]
    }
   ],
   "source": [
    "print(' train_data, test_data ======== 11 ========')\n",
    "train_data, test_data = df_8.randomSplit([.75,.25])"
   ]
  },
  {
   "cell_type": "code",
   "execution_count": 29,
   "metadata": {},
   "outputs": [
    {
     "name": "stdout",
     "output_type": "stream",
     "text": [
      " LogisticRegression ======== 12 ========\n",
      "+----------+----------+--------------------+\n",
      "|target_Idx|prediction|         probability|\n",
      "+----------+----------+--------------------+\n",
      "|       0.0|      11.0|[8.02005742493837...|\n",
      "|       1.0|       8.0|[4.92553234283082...|\n",
      "|       2.0|       2.0|[5.18129703986905...|\n",
      "|       5.0|       5.0|[8.65189017001823...|\n",
      "|       8.0|       8.0|[2.37113666783210...|\n",
      "|      13.0|      13.0|[7.56585836629978...|\n",
      "|       6.0|       6.0|[0.0,0.0,0.0,0.0,...|\n",
      "|       8.0|       8.0|[5.94480995567005...|\n",
      "|      10.0|      10.0|[9.42867594927807...|\n",
      "|      16.0|      16.0|[1.82928625618228...|\n",
      "+----------+----------+--------------------+\n",
      "only showing top 10 rows\n",
      "\n",
      "None\n",
      "Test set accuracy = 0.8125\n",
      "time: 1min 21s (started: 2021-10-06 17:07:41 +00:00)\n"
     ]
    }
   ],
   "source": [
    "print(' LogisticRegression ======== 12 ========')\n",
    "from pyspark.ml.classification import LogisticRegression\n",
    "lr = LogisticRegression(labelCol=\"target_Idx\",featuresCol=\"feat_reduit\")\n",
    "LogFModel = lr.fit(train_data)\n",
    "predictions = LogFModel.transform(test_data)\n",
    "selected = predictions.select(\"target_Idx\", \"prediction\", \"probability\")\n",
    "\n",
    "evaluator = MulticlassClassificationEvaluator(labelCol=\"target_Idx\", predictionCol=\"prediction\",metricName=\"accuracy\")\n",
    "accuracy = evaluator.evaluate(predictions)\n",
    "\n",
    "Def_sc = str(accuracy)\n",
    "print(selected.show(10))\n",
    "print(\"Test set accuracy = \" + str(accuracy))"
   ]
  },
  {
   "cell_type": "code",
   "execution_count": null,
   "metadata": {},
   "outputs": [],
   "source": []
  },
  {
   "cell_type": "code",
   "execution_count": 30,
   "metadata": {},
   "outputs": [
    {
     "name": "stdout",
     "output_type": "stream",
     "text": [
      "Export Local ======== 13 ========\n",
      "time: 25.2 s (started: 2021-10-06 17:09:03 +00:00)\n"
     ]
    }
   ],
   "source": [
    "print('Export Local ======== 13 ========')\n",
    "data_to_csv = df_8.toPandas()\n",
    "data_to_csv.to_csv('/home/ubuntu/csv_folder/data_to_csv.csv')"
   ]
  },
  {
   "cell_type": "code",
   "execution_count": 31,
   "metadata": {},
   "outputs": [
    {
     "name": "stdout",
     "output_type": "stream",
     "text": [
      "Export S3 ======== 14 ========\n",
      "Upload Successful\n",
      "time: 336 ms (started: 2021-10-06 17:09:28 +00:00)\n"
     ]
    }
   ],
   "source": [
    "print('Export S3 ======== 14 ========')\n",
    "uploaded = upload_to_aws('/home/ubuntu/csv_folder/data_to_csv.csv', 'sosop8', 'export_csv/data_to_csv.csv')\n",
    "\n"
   ]
  },
  {
   "cell_type": "code",
   "execution_count": 32,
   "metadata": {},
   "outputs": [
    {
     "name": "stdout",
     "output_type": "stream",
     "text": [
      "Delete local ======== 13 ========\n",
      "time: 528 µs (started: 2021-10-06 17:09:29 +00:00)\n"
     ]
    }
   ],
   "source": [
    "print('Delete local ======== 13 ========')"
   ]
  },
  {
   "cell_type": "code",
   "execution_count": 33,
   "metadata": {},
   "outputs": [
    {
     "name": "stdout",
     "output_type": "stream",
     "text": [
      "time: 123 ms (started: 2021-10-06 17:09:29 +00:00)\n"
     ]
    }
   ],
   "source": [
    "!rm /home/ubuntu/csv_folder/data_to_csv.csv"
   ]
  },
  {
   "cell_type": "code",
   "execution_count": null,
   "metadata": {},
   "outputs": [],
   "source": []
  },
  {
   "cell_type": "code",
   "execution_count": null,
   "metadata": {},
   "outputs": [],
   "source": []
  }
 ],
 "metadata": {
  "kernelspec": {
   "display_name": "Python 3 (ipykernel)",
   "language": "python",
   "name": "python3"
  },
  "language_info": {
   "codemirror_mode": {
    "name": "ipython",
    "version": 3
   },
   "file_extension": ".py",
   "mimetype": "text/x-python",
   "name": "python",
   "nbconvert_exporter": "python",
   "pygments_lexer": "ipython3",
   "version": "3.7.11"
  }
 },
 "nbformat": 4,
 "nbformat_minor": 2
}
